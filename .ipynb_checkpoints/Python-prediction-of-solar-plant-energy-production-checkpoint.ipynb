{
 "cells": [
  {
   "cell_type": "markdown",
   "metadata": {
    "collapsed": true
   },
   "source": [
    "# Wczytanie bibliotek"
   ]
  },
  {
   "cell_type": "code",
   "execution_count": 6,
   "metadata": {
    "collapsed": true
   },
   "outputs": [],
   "source": [
    "from pandas import *\n",
    "from numpy import *\n",
    "from datetime import datetime\n",
    "from math import sqrt\n",
    "from sklearn import datasets, linear_model\n",
    "from sklearn.model_selection import train_test_split, GridSearchCV\n",
    "from sklearn.metrics import classification_report, auc, roc_auc_score, mean_squared_error, r2_score\n",
    "from sklearn.svm import SVC,SVR\n",
    "from sklearn.ensemble import RandomForestRegressor\n",
    "from sklearn.datasets import make_regression\n",
    "from sklearn.utils import resample"
   ]
  },
  {
   "cell_type": "markdown",
   "metadata": {},
   "source": [
    "# Wczytanie danych i ich porządkowanie"
   ]
  },
  {
   "cell_type": "code",
   "execution_count": 7,
   "metadata": {
    "collapsed": true
   },
   "outputs": [],
   "source": [
    "df = read_csv(\"train.csv\")\n",
    "df_pred = read_csv(\"test.csv\")"
   ]
  },
  {
   "cell_type": "markdown",
   "metadata": {},
   "source": [
    "Zmiana nazw kolumn"
   ]
  },
  {
   "cell_type": "code",
   "execution_count": 8,
   "metadata": {
    "collapsed": true
   },
   "outputs": [],
   "source": [
    "df.columns = [\"id\", \"id_location\", \"id_model_norm\", \"id_brand_norm\", \"latitude_norm\", \"longitude_norm\",\n",
    "              \"age_in_months_norm\", \"year\", \"day_of_year_norm\", \"hour_of_day_norm\", \"date_time\",\n",
    "              \"avg_ambient_temperature_norm\", \"irradiating_norm\", \"pressure_norm\", \"wind_speed_norm\",\n",
    "              \"humidity_norm\", \"icon_norm\", \"dew_point_norm\", \"wind_direction_norm\", \"cloud_cover_norm\",\n",
    "              \"avg_ambient_temperature_i_norm\", \"irradiating_i_norm\", \"pressure_i_norm\", \"wind_speed_i_norm\",\n",
    "              \"humidity_i_norm\", \"dew_point_i_norm\", \"wind_direction_i_norm\", \"cloud_cover_i_norm\", \"season_norm\",\n",
    "              \"altitude_norm\", \"azimuth_norm\", \"altitude_i_norm\", \"azimuth_i_norm\", \"pcnm_norm_1\", \"pcnm_norm_2\",\n",
    "              \"pcnm_norm_3\", \"pcnm_norm_4\", \"pcnm_norm_5\", \"pcnm_norm_6\", \"pcnm_norm_7\", \"pcnm_norm_8\",\n",
    "              \"pcnm_norm_9\", \"pcnm_norm_10\", \"pcnm_norm_11\", \"pcnm_norm_12\", \"pcnm_norm_13\", \"pcnm_norm_14\",\n",
    "              \"pcnm_norm_15\", \"sun_radiation_norm\", \"sun_radiation_i_norm\", \"kwh\"]\n",
    "df_pred.columns = [\"id\", \"id_location\", \"id_model_norm\", \"id_brand_norm\", \"latitude_norm\", \"longitude_norm\",\n",
    "              \"age_in_months_norm\", \"year\", \"day_of_year_norm\", \"hour_of_day_norm\", \"date_time\",\n",
    "              \"avg_ambient_temperature_norm\", \"irradiating_norm\", \"pressure_norm\", \"wind_speed_norm\",\n",
    "              \"humidity_norm\", \"icon_norm\", \"dew_point_norm\", \"wind_direction_norm\", \"cloud_cover_norm\",\n",
    "              \"avg_ambient_temperature_i_norm\", \"irradiating_i_norm\", \"pressure_i_norm\", \"wind_speed_i_norm\",\n",
    "              \"humidity_i_norm\", \"dew_point_i_norm\", \"wind_direction_i_norm\", \"cloud_cover_i_norm\", \"season_norm\",\n",
    "              \"altitude_norm\", \"azimuth_norm\", \"altitude_i_norm\", \"azimuth_i_norm\", \"pcnm_norm_1\", \"pcnm_norm_2\",\n",
    "              \"pcnm_norm_3\", \"pcnm_norm_4\", \"pcnm_norm_5\", \"pcnm_norm_6\", \"pcnm_norm_7\", \"pcnm_norm_8\",\n",
    "              \"pcnm_norm_9\", \"pcnm_norm_10\", \"pcnm_norm_11\", \"pcnm_norm_12\", \"pcnm_norm_13\", \"pcnm_norm_14\",\n",
    "              \"pcnm_norm_15\", \"sun_radiation_norm\", \"sun_radiation_i_norm\"]"
   ]
  },
  {
   "cell_type": "markdown",
   "metadata": {},
   "source": [
    "Dodanie daty Posix"
   ]
  },
  {
   "cell_type": "code",
   "execution_count": 9,
   "metadata": {
    "collapsed": true
   },
   "outputs": [],
   "source": [
    "df['date_posix'] = to_datetime(df['date_time'], format = '%m/%d/%Y %H:%M')\n",
    "df_pred['date_posix'] = to_datetime(df_pred['date_time'], format = '%m/%d/%Y %H:%M')"
   ]
  },
  {
   "cell_type": "markdown",
   "metadata": {},
   "source": [
    "Usunięcie niektórych kolumn"
   ]
  },
  {
   "cell_type": "code",
   "execution_count": 10,
   "metadata": {
    "collapsed": true
   },
   "outputs": [],
   "source": [
    "df = df.loc[:,[\"id\",\"id_location\", \"id_model_norm\", \"id_brand_norm\", \"latitude_norm\", \"longitude_norm\",\n",
    "              \"age_in_months_norm\", \"year\", \"day_of_year_norm\", \"hour_of_day_norm\", \"date_posix\",\n",
    "              \"avg_ambient_temperature_norm\", \"irradiating_norm\", \"pressure_norm\", \"wind_speed_norm\",\n",
    "              \"humidity_norm\", \"icon_norm\", \"dew_point_norm\", \"wind_direction_norm\", \"cloud_cover_norm\",\n",
    "              \"avg_ambient_temperature_i_norm\", \"irradiating_i_norm\", \"pressure_i_norm\", \"wind_speed_i_norm\",\n",
    "              \"humidity_i_norm\", \"dew_point_i_norm\", \"wind_direction_i_norm\", \"cloud_cover_i_norm\", \"season_norm\",\n",
    "              \"altitude_norm\", \"azimuth_norm\", \"altitude_i_norm\", \"azimuth_i_norm\", \"sun_radiation_norm\",\n",
    "              \"sun_radiation_i_norm\", \"kwh\"]]\n",
    "df_pred = df_pred.loc[:,[\"id\",\"id_location\", \"id_model_norm\", \"id_brand_norm\", \"latitude_norm\", \"longitude_norm\",\n",
    "              \"age_in_months_norm\", \"year\", \"day_of_year_norm\", \"hour_of_day_norm\", \"date_posix\",\n",
    "              \"avg_ambient_temperature_norm\", \"irradiating_norm\", \"pressure_norm\", \"wind_speed_norm\",\n",
    "              \"humidity_norm\", \"icon_norm\", \"dew_point_norm\", \"wind_direction_norm\", \"cloud_cover_norm\",\n",
    "              \"avg_ambient_temperature_i_norm\", \"irradiating_i_norm\", \"pressure_i_norm\", \"wind_speed_i_norm\",\n",
    "              \"humidity_i_norm\", \"dew_point_i_norm\", \"wind_direction_i_norm\", \"cloud_cover_i_norm\", \"season_norm\",\n",
    "              \"altitude_norm\", \"azimuth_norm\", \"altitude_i_norm\", \"azimuth_i_norm\", \"sun_radiation_norm\",\n",
    "              \"sun_radiation_i_norm\"]]"
   ]
  },
  {
   "cell_type": "markdown",
   "metadata": {},
   "source": [
    "Sortowanie danych"
   ]
  },
  {
   "cell_type": "code",
   "execution_count": 11,
   "metadata": {
    "collapsed": true
   },
   "outputs": [],
   "source": [
    "df = df.sort_values(by = ['id_location', 'year', 'day_of_year_norm'])\n",
    "df_pred = df_pred.sort_values(by = ['id_location', 'year', 'day_of_year_norm'])"
   ]
  },
  {
   "cell_type": "markdown",
   "metadata": {},
   "source": [
    "# Czyszczenie danych uczących"
   ]
  },
  {
   "cell_type": "markdown",
   "metadata": {},
   "source": [
    "Poprawienie wartości kolumny day_of_year_norm w niektórych elektrowniach"
   ]
  },
  {
   "cell_type": "code",
   "execution_count": 12,
   "metadata": {
    "collapsed": true
   },
   "outputs": [],
   "source": [
    "replacement = df.loc[df['id_location'] == 8/40, 'day_of_year_norm']\n",
    "for id_loc in [2,4,5,6,10,11,13,14,15,16]:\n",
    "    to_replace_ids = df.index[df['id_location'] == id_loc/40].tolist()\n",
    "    for i in range(0, len(to_replace_ids)):\n",
    "        df.at[to_replace_ids[i], 'day_of_year_norm'] = replacement.values[i]"
   ]
  },
  {
   "cell_type": "markdown",
   "metadata": {},
   "source": [
    "Poprawienie wartości kolumny season_norm w niektórych elektrowniach"
   ]
  },
  {
   "cell_type": "code",
   "execution_count": 13,
   "metadata": {
    "collapsed": true
   },
   "outputs": [],
   "source": [
    "replacement = df.loc[df['id_location'] == 8/40, 'season_norm']\n",
    "for id_loc in [4,5,6,10,11,13,15,16]:\n",
    "    to_replace_ids = df.index[df['id_location'] == id_loc/40].tolist()\n",
    "    for i in range(0, len(to_replace_ids)):\n",
    "        df.at[to_replace_ids[i], 'season_norm'] = replacement.values[i]"
   ]
  },
  {
   "cell_type": "markdown",
   "metadata": {},
   "source": [
    "Poprawienie wartości sun_radiation_norm oraz sun_radiation_i_norm w niektórych elektrowniach poprzez nadanie im wartości średnich przed awarią i po awarii"
   ]
  },
  {
   "cell_type": "code",
   "execution_count": 14,
   "metadata": {
    "collapsed": true
   },
   "outputs": [],
   "source": [
    "corr_id_loc = [1,2,3,5,6,8,10,11,12,14,15,16,17]\n",
    "corr_dates_from = [\"2012-03-01 1:00\",\"2012-07-01 1:00\",\"2012-10-01 1:00\",\"2012-02-01 1:00\",\"2012-07-01 1:00\",\n",
    "                       \"2012-12-01 1:00\",\"2012-03-02 1:00\",\"2012-07-01 1:00\",\"2012-10-01 1:00\",\"2012-01-01 1:00\",\n",
    "                       \"2012-05-01 1:00\",\"2012-09-01 1:00\",\"2012-12-01 1:00\"]\n",
    "corr_dates_to = [\"2012-03-31 23:00\",\"2012-07-31 23:00\",\"2012-10-31 23:00\",\"2012-03-01 23:00\",\"2012-07-31 23:00\",\n",
    "                     \"2012-12-31 23:00\",\"2012-04-01 23:00\",\"2012-07-31 23:00\",\"2012-10-31 23:00\",\"2012-01-31 23:00\",\n",
    "                     \"2012-05-31 23:00\",\"2012-09-30 23:00\",\"2012-12-31 23:00\"]\n",
    "corr_get_dates_from = [\"2012-02-28\",\"2012-06-30\",\"2012-09-30\",\"2012-01-31\",\"2012-06-30\",\n",
    "                           \"2012-11-30\",\"2012-03-01\",\"2012-06-30\",\"2012-09-30\",\"2013-12-30\",\n",
    "                           \"2013-04-30\",\"2013-08-31\",\"2013-11-30\"]\n",
    "corr_get_dates_to = [\"2012-04-01\",\"2012-08-01\",\"2012-11-01\",\"2012-03-02\",\"2012-08-01\",\n",
    "                         \"2013-01-01\",\"2012-04-02\",\"2012-08-01\",\"2012-11-01\",\"2012-02-01\",\n",
    "                         \"2012-06-01\",\"2012-10-01\",\"2012-01-01\"]\n",
    "\n",
    "for i in range(0, len(corr_id_loc)-1):\n",
    "    replacement = mean(df.loc[(df['id_location'] == corr_id_loc[i]/40) &\n",
    "                 (((datetime.strptime(corr_get_dates_from[i]+' 0:01', \"%Y-%m-%d %H:%M\") <= df['date_posix']) &\n",
    "                  (df['date_posix'] <= datetime.strptime(corr_get_dates_from[i]+' 23:59', \"%Y-%m-%d %H:%M\"))) |\n",
    "                 ((datetime.strptime(corr_get_dates_to[i]+' 0:01', \"%Y-%m-%d %H:%M\") <= df['date_posix']) &\n",
    "                  (df['date_posix'] <= datetime.strptime(corr_get_dates_to[i]+' 23:59', \"%Y-%m-%d %H:%M\")))),\n",
    "                                  'sun_radiation_norm'])\n",
    "    \n",
    "    replacement_i = mean(df.loc[(df['id_location'] == corr_id_loc[i]/40) &\n",
    "                 (((datetime.strptime(corr_get_dates_from[i]+' 0:01', \"%Y-%m-%d %H:%M\") <= df['date_posix']) &\n",
    "                  (df['date_posix'] <= datetime.strptime(corr_get_dates_from[i]+' 23:59', \"%Y-%m-%d %H:%M\"))) |\n",
    "                 ((datetime.strptime(corr_get_dates_to[i]+' 0:01', \"%Y-%m-%d %H:%M\") <= df['date_posix']) &\n",
    "                  (df['date_posix'] <= datetime.strptime(corr_get_dates_to[i]+' 23:59', \"%Y-%m-%d %H:%M\")))),\n",
    "                                  'sun_radiation_i_norm'])\n",
    "    \n",
    "    to_replace_ids = df.index[(df['id_location'] == corr_id_loc[i]/40) &\n",
    "            (datetime.strptime(corr_dates_from[i], \"%Y-%m-%d %H:%M\") <= df['date_posix']) &\n",
    "            (df['date_posix'] <= datetime.strptime(corr_dates_to[i], \"%Y-%m-%d %H:%M\"))].tolist()\n",
    "    \n",
    "    for j in range(0, len(to_replace_ids)):\n",
    "        df.at[to_replace_ids[j], 'sun_radiation_norm'] = replacement\n",
    "        df.at[to_replace_ids[j], 'sun_radiation_i_norm'] = replacement_i"
   ]
  },
  {
   "cell_type": "markdown",
   "metadata": {},
   "source": [
    "Poprawienie wartości różnych pól w elektrowni 0.25 w okresie 2012-08-01 1:00 - 2012-12-31 23:00 poprzez kopię z innej elektrowni"
   ]
  },
  {
   "cell_type": "code",
   "execution_count": 15,
   "metadata": {
    "collapsed": true
   },
   "outputs": [],
   "source": [
    "corr_fields_025 = [\"irradiating_norm\",\"avg_ambient_temperature_norm\",\"pressure_norm\",\n",
    "                        \"wind_speed_norm\",\"humidity_norm\", \"dew_point_norm\",\n",
    "                        \"wind_direction_norm\",\"cloud_cover_norm\", \"irradiating_i_norm\",\n",
    "                        \"avg_ambient_temperature_i_norm\",\"pressure_i_norm\",\"wind_speed_i_norm\",\n",
    "                        \"humidity_i_norm\", \"dew_point_i_norm\",\"wind_direction_i_norm\",\n",
    "                        \"cloud_cover_i_norm\",\"sun_radiation_norm\",\"altitude_norm\",\"azimuth_norm\",\n",
    "                        \"sun_radiation_i_norm\",\"altitude_i_norm\",\"azimuth_i_norm\", \"energy_kwh_norm\"]\n",
    "\n",
    "to_replace_ids = df.index[(df['id_location'] == 10/40) &\n",
    "    (datetime.strptime(\"2012-08-01 1:00\", \"%Y-%m-%d %H:%M\") <= df['date_posix']) &\n",
    "    (df['date_posix'] <= datetime.strptime(\"2012-12-31 23:00\", \"%Y-%m-%d %H:%M\"))].tolist()\n",
    "    \n",
    "for i in range(0, len(corr_fields_025)-1):\n",
    "    replacement = df.loc[(df['id_location'] == 9/40) &\n",
    "        (datetime.strptime(\"2012-08-01 1:00\", \"%Y-%m-%d %H:%M\") <= df['date_posix']) &\n",
    "        (df['date_posix'] <= datetime.strptime(\"2012-12-31 23:00\", \"%Y-%m-%d %H:%M\")),corr_fields_025[i]]\n",
    "    \n",
    "    for j in range(0, len(to_replace_ids)):\n",
    "        df.at[to_replace_ids[j], corr_fields_025[i]] = replacement.values[j]"
   ]
  },
  {
   "cell_type": "markdown",
   "metadata": {},
   "source": [
    "Poprawienie wartości różnych pól w elektrowni 0.075 w okresie 2012-01-01 1:00 - 2012-03-31 23:00 poprzez kopię z innej elektrowni"
   ]
  },
  {
   "cell_type": "code",
   "execution_count": 16,
   "metadata": {
    "collapsed": true
   },
   "outputs": [],
   "source": [
    "corr_fields_025_2 = [\"irradiating_norm\",\"avg_ambient_temperature_norm\", \"irradiating_i_norm\",\n",
    "                          \"avg_ambient_temperature_i_norm\"]\n",
    "\n",
    "to_replace_ids = df.index[(df['id_location'] == 3/40) &\n",
    "    (datetime.strptime(\"2012-01-01 1:00\", \"%Y-%m-%d %H:%M\") <= df['date_posix']) &\n",
    "    (df['date_posix'] <= datetime.strptime(\"2012-03-31 23:00\", \"%Y-%m-%d %H:%M\"))].tolist()\n",
    "\n",
    "for i in range(0, len(corr_fields_025_2)-1):\n",
    "    replacement = df.loc[(df['id_location'] == 2/40) &\n",
    "        (datetime.strptime(\"2012-01-01 1:00\", \"%Y-%m-%d %H:%M\") <= df['date_posix']) &\n",
    "        (df['date_posix'] <= datetime.strptime(\"2012-03-31 23:00\", \"%Y-%m-%d %H:%M\")),corr_fields_025_2[i]]\n",
    "    \n",
    "    for j in range(0, len(to_replace_ids)):\n",
    "        df.at[to_replace_ids[j], corr_fields_025_2[i]] = replacement.values[j]"
   ]
  },
  {
   "cell_type": "markdown",
   "metadata": {
    "collapsed": true
   },
   "source": [
    "Poprawienie wartości altitude_norm pod koniec roku 2013"
   ]
  },
  {
   "cell_type": "code",
   "execution_count": 17,
   "metadata": {
    "collapsed": true
   },
   "outputs": [],
   "source": [
    "corr_dates_from = [\"2013-06-15\", \"2013-06-19\", \"2013-06-23\", \"2013-06-22\", \"2013-11-17\", \"2013-10-20\", \"2013-10-22\"]\n",
    "target_loc = [0.1, 0.125, 0.15, 0.275, 0.325, 0.375, 0.4]\n",
    "replacement_loc = [0.025, 0.1, 0.025, 0.05, 0.225, 0.3, 0.3]\n",
    "\n",
    "for i in range(0, len(target_loc)):\n",
    "    to_replace_ids = df.index[(df['id_location'] == target_loc[i]) &\n",
    "        (datetime.strptime(corr_dates_from[i]+\" 1:00\", \"%Y-%m-%d %H:%M\") <= df['date_posix'])].tolist()\n",
    "    \n",
    "    replacement = df.loc[(df['id_location'] == replacement_loc[i]) &\n",
    "        (datetime.strptime(corr_dates_from[i]+\" 1:00\", \"%Y-%m-%d %H:%M\") <= df['date_posix']), \"altitude_norm\"]\n",
    "        \n",
    "    for j in range(0, len(to_replace_ids)):\n",
    "        df.at[to_replace_ids[j], \"altitude_norm\"] = replacement.values[j]"
   ]
  },
  {
   "cell_type": "markdown",
   "metadata": {},
   "source": [
    "Poprawienie wartości altitude_i_norm pod koniec roku 2013"
   ]
  },
  {
   "cell_type": "code",
   "execution_count": 18,
   "metadata": {
    "collapsed": true
   },
   "outputs": [],
   "source": [
    "corr_dates_from = [\"2013-06-17\", \"2013-06-22\", \"2013-06-21\", \"2013-10-20\", \"2013-10-31\"]\n",
    "target_loc = [0.1, 0.275, 0.325, 0.375, 0.4]\n",
    "replacement_loc = [0.025, 0.05, 0.225, 0.3, 0.3]\n",
    "\n",
    "for i in range(0, len(target_loc)):\n",
    "    to_replace_ids = df.index[(df['id_location'] == target_loc[i]) &\n",
    "        (datetime.strptime(corr_dates_from[i]+\" 1:00\", \"%Y-%m-%d %H:%M\") <= df['date_posix'])].tolist()\n",
    "    \n",
    "    replacement = df.loc[(df['id_location'] == replacement_loc[i]) &\n",
    "        (datetime.strptime(corr_dates_from[i]+\" 1:00\", \"%Y-%m-%d %H:%M\") <= df['date_posix']), \"altitude_i_norm\"]\n",
    "        \n",
    "    for j in range(0, len(to_replace_ids)):\n",
    "        df.at[to_replace_ids[j], \"altitude_i_norm\"] = replacement.values[j]"
   ]
  },
  {
   "cell_type": "markdown",
   "metadata": {},
   "source": [
    "Poprawienie wartości irradiating_norm pod koniec roku 2013"
   ]
  },
  {
   "cell_type": "code",
   "execution_count": 19,
   "metadata": {
    "collapsed": true
   },
   "outputs": [],
   "source": [
    "corr_dates_from = [\"2013-06-22\", \"2013-06-22\", \"2013-06-24\", \"2013-06-23\", \"2013-11-16\", \"2013-10-19\", \"2013-10-16\", \"2013-05-22\"]\n",
    "target_loc = [0.1, 0.125, 0.15, 0.275, 0.325, 0.375, 0.4, 0.425]\n",
    "replacement_loc = [0.025, 0.1, 0.025, 0.05, 0.225, 0.3, 0.3, 0.15]\n",
    "\n",
    "for i in range(0, len(target_loc)):\n",
    "    to_replace_ids = df.index[(df['id_location'] == target_loc[i]) &\n",
    "        (datetime.strptime(corr_dates_from[i]+\" 1:00\", \"%Y-%m-%d %H:%M\") <= df['date_posix'])].tolist()\n",
    "    \n",
    "    replacement = df.loc[(df['id_location'] == replacement_loc[i]) &\n",
    "        (datetime.strptime(corr_dates_from[i]+\" 1:00\", \"%Y-%m-%d %H:%M\") <= df['date_posix']), \"irradiating_norm\"]\n",
    "        \n",
    "    for j in range(0, len(to_replace_ids)):\n",
    "        df.at[to_replace_ids[j], \"irradiating_norm\"] = replacement.values[j]"
   ]
  },
  {
   "cell_type": "markdown",
   "metadata": {},
   "source": [
    "Poprawienie wartości irradiating_i_norm pod koniec roku 2013"
   ]
  },
  {
   "cell_type": "code",
   "execution_count": 20,
   "metadata": {
    "collapsed": true
   },
   "outputs": [],
   "source": [
    "corr_dates_from = [\"2013-06-23\", \"2013-06-23\", \"2013-06-24\", \"2013-10-20\", \"2013-10-22\"]\n",
    "target_loc = [0.1, 0.275, 0.325, 0.375, 0.4]\n",
    "replacement_loc = [0.025, 0.05, 0.225, 0.3, 0.3]\n",
    "\n",
    "for i in range(0, len(target_loc)):\n",
    "    to_replace_ids = df.index[(df['id_location'] == target_loc[i]) &\n",
    "        (datetime.strptime(corr_dates_from[i]+\" 1:00\", \"%Y-%m-%d %H:%M\") <= df['date_posix'])].tolist()\n",
    "    \n",
    "    replacement = df.loc[(df['id_location'] == replacement_loc[i]) &\n",
    "        (datetime.strptime(corr_dates_from[i]+\" 1:00\", \"%Y-%m-%d %H:%M\") <= df['date_posix']), \"irradiating_i_norm\"]\n",
    "        \n",
    "    for j in range(0, len(to_replace_ids)):\n",
    "        df.at[to_replace_ids[j], \"irradiating_i_norm\"] = replacement.values[j]"
   ]
  },
  {
   "cell_type": "markdown",
   "metadata": {},
   "source": [
    "Poprawienie wartości sun_radiation_norm w niektórych okresach"
   ]
  },
  {
   "cell_type": "code",
   "execution_count": 21,
   "metadata": {
    "collapsed": true
   },
   "outputs": [],
   "source": [
    "corr_dates_from = [\"2012-03-01\", \"2013-03-01\", \"2012-07-01\", \"2013-07-01\", \"2012-10-01\", \"2013-10-01\",\n",
    "                  \"2012-02-01\", \"2013-02-01\", \"2012-07-01\", \"2013-07-01\", \"2012-12-01\", \"2013-12-01\",\n",
    "                  \"2012-03-01\", \"2013-03-01\", \"2012-07-01\", \"2013-07-01\", \"2012-10-01\", \"2013-10-01\",\n",
    "                  \"2012-01-01\", \"2013-01-01\", \"2012-05-01\", \"2013-05-01\", \"2012-09-01\", \"2013-09-01\", \"2012-12-01\", \"2013-12-01\"]\n",
    "corr_dates_to = [\"2012-03-31\", \"2013-03-31\", \"2012-07-31\", \"2013-07-31\", \"2012-10-31\", \"2013-10-31\",\n",
    "                \"2012-02-28\", \"2013-02-28\", \"2012-07-31\", \"2013-07-31\", \"2012-12-31\", \"2013-12-31\",\n",
    "                \"2012-03-31\", \"2013-03-31\", \"2012-07-31\", \"2013-07-31\", \"2012-10-31\", \"2013-10-31\",\n",
    "                \"2012-01-31\", \"2013-01-31\", \"2012-05-31\", \"2013-05-31\", \"2012-09-30\", \"2013-09-30\", \"2012-12-31\", \"2013-12-31\"]\n",
    "target_loc = [0.025, 0.025, 0.05, 0.05, 0.075, 0.075,\n",
    "              0.125, 0.125, 0.15, 0.15, 0.2, 0.2, \n",
    "              0.25, 0.25, 0.275, 0.275, 0.3, 0.3, \n",
    "              0.35, 0.35, 0.375, 0.375, 0.4, 0.4, 0.425, 0.425]\n",
    "replacement_loc = [0.1, 0.1, 0.275, 0.275, 0.2, 0.2,\n",
    "                  0.1, 0.1, 0.425, 0.425, 0.075, 0.075, \n",
    "                  0.325, 0.325, 0.05, 0.05, 0.4, 0.4, \n",
    "                  0.075, 0.075, 0.3, 0.3, 0.3, 0.3, 0.15, 0.15]\n",
    "\n",
    "for i in range(0, len(target_loc)):\n",
    "    to_replace_ids = df.index[(df['id_location'] == target_loc[i]) &\n",
    "        (datetime.strptime(corr_dates_from[i]+\" 1:00\", \"%Y-%m-%d %H:%M\") <= df['date_posix']) &\n",
    "        (df['date_posix'] <= datetime.strptime(corr_dates_to[i]+\" 23:00\", \"%Y-%m-%d %H:%M\"))].tolist()\n",
    "    \n",
    "    replacement = df.loc[(df['id_location'] == replacement_loc[i]) &\n",
    "        (datetime.strptime(corr_dates_from[i]+\" 1:00\", \"%Y-%m-%d %H:%M\") <= df['date_posix']) &\n",
    "        (df['date_posix'] <= datetime.strptime(corr_dates_to[i]+\" 23:00\", \"%Y-%m-%d %H:%M\")), \"sun_radiation_norm\"]\n",
    "        \n",
    "    for j in range(0, len(to_replace_ids)):\n",
    "        df.at[to_replace_ids[j], \"sun_radiation_norm\"] = replacement.values[j]"
   ]
  },
  {
   "cell_type": "markdown",
   "metadata": {},
   "source": [
    "Poprawienie wartości sun_radiation_norm pod koniec roku 2013"
   ]
  },
  {
   "cell_type": "code",
   "execution_count": 22,
   "metadata": {
    "collapsed": true
   },
   "outputs": [],
   "source": [
    "corr_dates_from = [\"2012-07-23\", \"2012-07-23\", \"2012-06-23\", \"2012-06-23\", \"2012-11-16\", \"2012-10-21\"]\n",
    "target_loc = [0.1, 0.125, 0.15, 0.275, 0.325, 0.375]\n",
    "replacement_loc = [0.025, 0.1, 0.425, 0.05, 0.225, 0.3]\n",
    "\n",
    "for i in range(0, len(target_loc)):\n",
    "    to_replace_ids = df.index[(df['id_location'] == target_loc[i]) &\n",
    "        (datetime.strptime(corr_dates_from[i]+\" 1:00\", \"%Y-%m-%d %H:%M\") <= df['date_posix'])].tolist()\n",
    "    \n",
    "    replacement = df.loc[(df['id_location'] == replacement_loc[i]) &\n",
    "        (datetime.strptime(corr_dates_from[i]+\" 1:00\", \"%Y-%m-%d %H:%M\") <= df['date_posix']), \"sun_radiation_norm\"]\n",
    "        \n",
    "    for j in range(0, len(to_replace_ids)):\n",
    "        df.at[to_replace_ids[j], \"sun_radiation_norm\"] = replacement.values[j]"
   ]
  },
  {
   "cell_type": "markdown",
   "metadata": {},
   "source": [
    "Poprawienie wartości sun_radiation_i_norm w niektórych okresach"
   ]
  },
  {
   "cell_type": "code",
   "execution_count": 23,
   "metadata": {
    "collapsed": true
   },
   "outputs": [],
   "source": [
    "corr_dates_from = [\"2012-03-01\", \"2012-07-01\", \"2012-10-01\", \"2012-12-01\", \"2012-07-01\", \"2012-07-01\",\n",
    "                  \"2012-01-01\", \"2012-05-01\", \"2012-09-01\", \"2012-12-01\"]\n",
    "corr_dates_to = [\"2012-03-31\", \"2012-07-31\", \"2012-10-31\", \"2012-12-31\", \"2012-07-31\", \"2012-07-31\",\n",
    "                \"2012-01-31\", \"2012-05-31\", \"2012-09-30\", \"2012-12-30\"]\n",
    "target_loc = [0.025, 0.05, 0.075, 0.2, 0.25, 0.275,\n",
    "              0.35, 0.375, 0.4, 0.425]\n",
    "replacement_loc = [0.1, 0.225, 0.05, 0.075, 0.325, 0.05,\n",
    "                  0.075, 0.3, 0.3, 0.15]\n",
    "\n",
    "for i in range(0, len(target_loc)):\n",
    "    to_replace_ids = df.index[(df['id_location'] == target_loc[i]) &\n",
    "        (datetime.strptime(corr_dates_from[i]+\" 1:00\", \"%Y-%m-%d %H:%M\") <= df['date_posix']) &\n",
    "        (df['date_posix'] <= datetime.strptime(corr_dates_to[i]+\" 23:00\", \"%Y-%m-%d %H:%M\"))].tolist()\n",
    "    \n",
    "    replacement = df.loc[(df['id_location'] == replacement_loc[i]) &\n",
    "        (datetime.strptime(corr_dates_from[i]+\" 1:00\", \"%Y-%m-%d %H:%M\") <= df['date_posix']) &\n",
    "        (df['date_posix'] <= datetime.strptime(corr_dates_to[i]+\" 23:00\", \"%Y-%m-%d %H:%M\")), \"sun_radiation_i_norm\"]\n",
    "        \n",
    "    for j in range(0, len(to_replace_ids)):\n",
    "        df.at[to_replace_ids[j], \"sun_radiation_i_norm\"] = replacement.values[j]"
   ]
  },
  {
   "cell_type": "markdown",
   "metadata": {},
   "source": [
    "Poprawienie wartości sun_radiation_i_norm pod koniec roku 2013"
   ]
  },
  {
   "cell_type": "code",
   "execution_count": 24,
   "metadata": {
    "collapsed": true
   },
   "outputs": [],
   "source": [
    "corr_dates_from = [\"2012-06-23\", \"2012-06-23\", \"2012-06-23\", \"2012-10-21\", \"2012-10-22\"]\n",
    "target_loc = [0.1, 0.275, 0.325, 0.375, 0.4]\n",
    "replacement_loc = [0.025, 0.05, 0.25, 0.3, 0.3]\n",
    "\n",
    "for i in range(0, len(target_loc)):\n",
    "    to_replace_ids = df.index[(df['id_location'] == target_loc[i]) &\n",
    "        (datetime.strptime(corr_dates_from[i]+\" 1:00\", \"%Y-%m-%d %H:%M\") <= df['date_posix'])].tolist()\n",
    "    \n",
    "    replacement = df.loc[(df['id_location'] == replacement_loc[i]) &\n",
    "        (datetime.strptime(corr_dates_from[i]+\" 1:00\", \"%Y-%m-%d %H:%M\") <= df['date_posix']), \"sun_radiation_i_norm\"]\n",
    "        \n",
    "    for j in range(0, len(to_replace_ids)):\n",
    "        df.at[to_replace_ids[j], \"sun_radiation_i_norm\"] = replacement.values[j]"
   ]
  },
  {
   "cell_type": "markdown",
   "metadata": {},
   "source": [
    "Poprawienie wartości azimuth_norm pod koniec roku 2013.\n",
    "Poniższy blok kodu został dodany między przedostatnim zgłoszeniem (z najleszym scorem) a ostatnim zgłoszeniem (z troche gorszym scorem)."
   ]
  },
  {
   "cell_type": "code",
   "execution_count": 25,
   "metadata": {
    "collapsed": true
   },
   "outputs": [],
   "source": [
    "corr_dates_from = [\"2013-06-13\", \"2013-06-22\", \"2013-06-17\", \"2013-06-16\", \"2013-11-17\", \"2013-10-20\", \"2013-10-23\"]\n",
    "target_loc = [0.1, 0.125, 0.15, 0.275, 0.325, 0.375, 0.4]\n",
    "replacement_loc = [0.025, 0.1, 0.425, 0.05, 0.25, 0.3, 0.3]\n",
    "\n",
    "for i in range(0, len(target_loc)):\n",
    "    to_replace_ids = df.index[(df['id_location'] == target_loc[i]) &\n",
    "        (datetime.strptime(corr_dates_from[i]+\" 1:00\", \"%Y-%m-%d %H:%M\") <= df['date_posix'])].tolist()\n",
    "    \n",
    "    replacement = df.loc[(df['id_location'] == replacement_loc[i]) &\n",
    "        (datetime.strptime(corr_dates_from[i]+\" 1:00\", \"%Y-%m-%d %H:%M\") <= df['date_posix']), \"azimuth_norm\"]\n",
    "        \n",
    "    for j in range(0, len(to_replace_ids)):\n",
    "        df.at[to_replace_ids[j], \"azimuth_norm\"] = replacement.values[j]"
   ]
  },
  {
   "cell_type": "markdown",
   "metadata": {},
   "source": [
    "Poprawienie wartości azimuth_norm w 0.25 w przedziale czasu 2012-08-05 1:00 - 2013-01-01 23:00.\n",
    "Poniższy blok kodu został dodany między przedostatnim zgłoszeniem (z najleszym scorem) a ostatnim zgłoszeniem (z troche gorszym scorem)."
   ]
  },
  {
   "cell_type": "code",
   "execution_count": 26,
   "metadata": {
    "collapsed": true
   },
   "outputs": [],
   "source": [
    "to_replace_ids = df.index[(df['id_location'] == 0.25) &\n",
    "        (datetime.strptime(\"2012-08-05 1:00\", \"%Y-%m-%d %H:%M\") <= df['date_posix']) &\n",
    "        (df['date_posix'] <= datetime.strptime(\"2013-01-01 23:00\", \"%Y-%m-%d %H:%M\"))].tolist()\n",
    "    \n",
    "replacement = df.loc[(df['id_location'] == 0.325) &\n",
    "        (datetime.strptime(\"2012-08-05 1:00\", \"%Y-%m-%d %H:%M\") <= df['date_posix']) &\n",
    "        (df['date_posix'] <= datetime.strptime(\"2013-01-01 23:00\", \"%Y-%m-%d %H:%M\")), \"azimuth_norm\"]\n",
    "        \n",
    "for j in range(0, len(to_replace_ids)):\n",
    "    df.at[to_replace_ids[j], \"azimuth_norm\"] = replacement.values[j]"
   ]
  },
  {
   "cell_type": "markdown",
   "metadata": {},
   "source": [
    "Poprawienie wartości azimuth_i_norm pod koniec roku 2013.\n",
    "Poniższy blok kodu został dodany między przedostatnim zgłoszeniem (z najleszym scorem) a ostatnim zgłoszeniem (z troche gorszym scorem)."
   ]
  },
  {
   "cell_type": "code",
   "execution_count": 27,
   "metadata": {
    "collapsed": true
   },
   "outputs": [],
   "source": [
    "corr_dates_from = [\"2013-06-22\", \"2013-06-18\", \"2013-06-23\", \"2013-10-21\", \"2013-10-21\"]\n",
    "target_loc = [0.1, 0.275, 0.325, 0.375, 0.4]\n",
    "replacement_loc = [0.025, 0.05, 0.25, 0.3, 0.3]\n",
    "\n",
    "for i in range(0, len(target_loc)):\n",
    "    to_replace_ids = df.index[(df['id_location'] == target_loc[i]) &\n",
    "        (datetime.strptime(corr_dates_from[i]+\" 1:00\", \"%Y-%m-%d %H:%M\") <= df['date_posix'])].tolist()\n",
    "    \n",
    "    replacement = df.loc[(df['id_location'] == replacement_loc[i]) &\n",
    "        (datetime.strptime(corr_dates_from[i]+\" 1:00\", \"%Y-%m-%d %H:%M\") <= df['date_posix']), \"azimuth_i_norm\"]\n",
    "        \n",
    "    for j in range(0, len(to_replace_ids)):\n",
    "        df.at[to_replace_ids[j], \"azimuth_i_norm\"] = replacement.values[j]"
   ]
  },
  {
   "cell_type": "markdown",
   "metadata": {},
   "source": [
    "Poprawienie wszystkich wartości altitude_i_norm, azimuth_i_norm, sun_radiation_i_norm i irradiating_i_norm w 0.125, 0.15, 0.3"
   ]
  },
  {
   "cell_type": "code",
   "execution_count": 28,
   "metadata": {
    "collapsed": true
   },
   "outputs": [],
   "source": [
    "corr_fields_025_3 = [\"altitude_i_norm\", \"azimuth_i_norm\", \"sun_radiation_i_norm\", \"irradiating_i_norm\"]\n",
    "target_loc = [0.125, 0.15, 0.3]\n",
    "replacement_loc = [0.1, 0.425, 0.325]\n",
    "\n",
    "for i in range(0, len(target_loc)):\n",
    "    to_replace_ids = df.index[(df['id_location'] == target_loc[i])].tolist()\n",
    "    \n",
    "    for m in range(0, len(corr_fields_025_3)):\n",
    "        replacement = df.loc[(df['id_location'] == replacement_loc[i]),corr_fields_025_3[m]]\n",
    "        \n",
    "        for j in range(0, len(to_replace_ids)):\n",
    "            df.at[to_replace_ids[j], corr_fields_025_3[m]] = replacement.values[j]"
   ]
  },
  {
   "cell_type": "markdown",
   "metadata": {},
   "source": [
    "# Czyszczenie danych testowych"
   ]
  },
  {
   "cell_type": "markdown",
   "metadata": {},
   "source": [
    "Poprawnienie wartości irradiating_norm w 0.025 od 2014-01-19 1:00 do 2014-04-08 23:00"
   ]
  },
  {
   "cell_type": "code",
   "execution_count": 29,
   "metadata": {
    "collapsed": true
   },
   "outputs": [],
   "source": [
    "to_replace_ids = df_pred.index[(df_pred['id_location'] == 0.025) &\n",
    "    (datetime.strptime(\"2014-01-19 1:00\", \"%Y-%m-%d %H:%M\") <= df_pred['date_posix']) &\n",
    "    (df_pred['date_posix'] <= datetime.strptime(\"2014-04-08 23:00\", \"%Y-%m-%d %H:%M\"))].tolist()\n",
    "replacement = df_pred.loc[(df_pred['id_location'] == 0.425) &\n",
    "        (datetime.strptime(\"2014-01-19 1:00\", \"%Y-%m-%d %H:%M\") <= df_pred['date_posix']) &\n",
    "        (df_pred['date_posix'] <= datetime.strptime(\"2014-04-08 23:00\", \"%Y-%m-%d %H:%M\")),'irradiating_norm'].values\n",
    "for j in range(0, len(to_replace_ids)):\n",
    "    df_pred.at[to_replace_ids[j], 'irradiating_norm'] = replacement[j]"
   ]
  },
  {
   "cell_type": "markdown",
   "metadata": {},
   "source": [
    "Poprawnienie wartości irradiating_norm w 0.075 od 2014-04-26 1:00"
   ]
  },
  {
   "cell_type": "code",
   "execution_count": 30,
   "metadata": {
    "collapsed": true
   },
   "outputs": [],
   "source": [
    "to_replace_ids = df_pred.index[(df_pred['id_location'] == 0.075) &\n",
    "    (datetime.strptime(\"2014-04-26 1:00\", \"%Y-%m-%d %H:%M\") <= df_pred['date_posix'])].tolist()\n",
    "replacement = df_pred.loc[(df_pred['id_location'] == 0.2) &\n",
    "        (datetime.strptime(\"2014-04-26 1:00\", \"%Y-%m-%d %H:%M\") <= df_pred['date_posix']),'irradiating_norm'].values\n",
    "for j in range(0, len(to_replace_ids)):\n",
    "    df_pred.at[to_replace_ids[j], 'irradiating_norm'] = replacement[j]"
   ]
  },
  {
   "cell_type": "markdown",
   "metadata": {},
   "source": [
    "Poprawnienie wartości irradiating_norm w 0.3 od 2014-01-15 1:00"
   ]
  },
  {
   "cell_type": "code",
   "execution_count": 31,
   "metadata": {
    "collapsed": true
   },
   "outputs": [],
   "source": [
    "to_replace_ids = df_pred.index[(df_pred['id_location'] == 0.3) &\n",
    "    (datetime.strptime(\"2014-01-15 1:00\", \"%Y-%m-%d %H:%M\") <= df_pred['date_posix'])].tolist()\n",
    "replacement = df_pred.loc[(df_pred['id_location'] == 0.325) &\n",
    "        (datetime.strptime(\"2014-01-15 1:00\", \"%Y-%m-%d %H:%M\") <= df_pred['date_posix']),'irradiating_norm'].values\n",
    "for j in range(0, len(to_replace_ids)):\n",
    "    df_pred.at[to_replace_ids[j], 'irradiating_norm'] = replacement[j]"
   ]
  },
  {
   "cell_type": "markdown",
   "metadata": {},
   "source": [
    "Poprawnienie wartości irradiating_norm w 0.4"
   ]
  },
  {
   "cell_type": "code",
   "execution_count": 32,
   "metadata": {
    "collapsed": true
   },
   "outputs": [],
   "source": [
    "to_replace_ids = df_pred.index[(df_pred['id_location'] == 0.4)].tolist()\n",
    "replacement = df_pred.loc[(df_pred['id_location'] == 0.375),'irradiating_norm'].values\n",
    "for j in range(0, len(to_replace_ids)):\n",
    "    df_pred.at[to_replace_ids[j], 'irradiating_norm'] = replacement[j]"
   ]
  },
  {
   "cell_type": "markdown",
   "metadata": {},
   "source": [
    "Poprawnienie wartości altitude_i_norm, azimuth_i_norm, sun_radiation_i_norm, irradiating_i_norm w 0.125, 0.15, 0.325, 0.3"
   ]
  },
  {
   "cell_type": "code",
   "execution_count": 33,
   "metadata": {
    "collapsed": true
   },
   "outputs": [],
   "source": [
    "corr_fields_025_3 = [\"altitude_i_norm\", \"azimuth_i_norm\", \"sun_radiation_i_norm\", \"irradiating_i_norm\"]\n",
    "target_loc = [0.125, 0.15, 0.325, 0.3]\n",
    "replacement_loc = [0.1, 0.425, 0.25, 0.325]\n",
    "\n",
    "for i in range(0, len(target_loc)):\n",
    "    to_replace_ids = df_pred.index[(df_pred['id_location'] == target_loc[i])].tolist()\n",
    "    \n",
    "    for m in range(0, len(corr_fields_025_3)):\n",
    "        replacement = df_pred.loc[(df_pred['id_location'] == replacement_loc[i]),corr_fields_025_3[m]]\n",
    "        \n",
    "        for j in range(0, len(to_replace_ids)):\n",
    "            df_pred.at[to_replace_ids[j], corr_fields_025_3[m]] = replacement.values[j]"
   ]
  },
  {
   "cell_type": "markdown",
   "metadata": {},
   "source": [
    "# Budowanie regresora"
   ]
  },
  {
   "cell_type": "markdown",
   "metadata": {},
   "source": [
    "Pobranie danych uczących X"
   ]
  },
  {
   "cell_type": "code",
   "execution_count": 34,
   "metadata": {
    "collapsed": true
   },
   "outputs": [],
   "source": [
    "x_train = df\n",
    "#x_train = x_train.loc[df['year']==2012, :]\n",
    "x_train = x_train.loc[:, [\"id_location\", \"id_brand_norm\", \"id_model_norm\", \"age_in_months_norm\",\n",
    "              \"day_of_year_norm\", \"hour_of_day_norm\",\"season_norm\",\n",
    "              \"avg_ambient_temperature_norm\", \"pressure_norm\", \"wind_speed_norm\",\n",
    "              \"humidity_norm\", \"dew_point_norm\", \"wind_direction_norm\", \"cloud_cover_norm\",\n",
    "              \"avg_ambient_temperature_i_norm\", \"pressure_i_norm\", \"wind_speed_i_norm\",\n",
    "              \"humidity_i_norm\", \"dew_point_i_norm\", \"wind_direction_i_norm\", \"cloud_cover_i_norm\", \n",
    "              \"irradiating_norm\", \"altitude_norm\", \"azimuth_norm\", \"sun_radiation_norm\",\n",
    "              \"irradiating_i_norm\", \"altitude_i_norm\", \"azimuth_i_norm\", \"sun_radiation_i_norm\"]]"
   ]
  },
  {
   "cell_type": "markdown",
   "metadata": {},
   "source": [
    "Pobranie danych uczących Y"
   ]
  },
  {
   "cell_type": "code",
   "execution_count": 35,
   "metadata": {
    "collapsed": true
   },
   "outputs": [],
   "source": [
    "y_train = df\n",
    "#y_train = y_train.loc[df['year']==2012, :]\n",
    "y_train = y_train.loc[:,[\"kwh\"]]\n",
    "y_train = ravel(y_train)"
   ]
  },
  {
   "cell_type": "markdown",
   "metadata": {},
   "source": [
    "Balansowanie danych uczących"
   ]
  },
  {
   "cell_type": "code",
   "execution_count": 36,
   "metadata": {
    "collapsed": true
   },
   "outputs": [],
   "source": [
    "y_train, x_train = resample(y_train, x_train, random_state = 4234)"
   ]
  },
  {
   "cell_type": "markdown",
   "metadata": {},
   "source": [
    "Ustawienia regresora"
   ]
  },
  {
   "cell_type": "code",
   "execution_count": 37,
   "metadata": {
    "collapsed": true
   },
   "outputs": [],
   "source": [
    "ran_for = RandomForestRegressor(random_state=42963,\n",
    "                                n_jobs=6,\n",
    "                                criterion=\"mse\",\n",
    "                                max_depth=40,\n",
    "                                n_estimators=100,\n",
    "                                max_features=0.2,\n",
    "                                min_samples_split=3)"
   ]
  },
  {
   "cell_type": "markdown",
   "metadata": {},
   "source": [
    "Uczenie regresora"
   ]
  },
  {
   "cell_type": "code",
   "execution_count": 38,
   "metadata": {
    "collapsed": true
   },
   "outputs": [],
   "source": [
    "regressor = ran_for.fit(x_train, y_train)"
   ]
  },
  {
   "cell_type": "markdown",
   "metadata": {},
   "source": [
    "Ciekawostka - ten regresor spowodował score RMSE > 7000"
   ]
  },
  {
   "cell_type": "code",
   "execution_count": 39,
   "metadata": {},
   "outputs": [
    {
     "data": {
      "text/plain": [
       "\"\\nregressor = linear_model.LinearRegression()\\nregressor = GridSearchCV(SVC(C=1), tuned_parameters, cv=5,scoring='%s_weighted' % score)\\nregressor = regressor.fit(x_train, y_train)\\n\""
      ]
     },
     "execution_count": 39,
     "metadata": {},
     "output_type": "execute_result"
    }
   ],
   "source": [
    "'''\n",
    "regressor = linear_model.LinearRegression()\n",
    "regressor = GridSearchCV(SVC(C=1), tuned_parameters, cv=5,scoring='%s_weighted' % score)\n",
    "regressor = regressor.fit(x_train, y_train)\n",
    "'''"
   ]
  },
  {
   "cell_type": "markdown",
   "metadata": {},
   "source": [
    "# Test regresora"
   ]
  },
  {
   "cell_type": "markdown",
   "metadata": {},
   "source": [
    "Pobranie danych testowych X"
   ]
  },
  {
   "cell_type": "code",
   "execution_count": 40,
   "metadata": {
    "collapsed": true
   },
   "outputs": [],
   "source": [
    "x_test = df\n",
    "x_test = x_test.loc[df['year']==2013, :]\n",
    "x_test = x_test.loc[:, [\"id_location\", \"id_brand_norm\", \"id_model_norm\", \"age_in_months_norm\", \n",
    "              \"day_of_year_norm\", \"hour_of_day_norm\",\"season_norm\",\n",
    "              \"avg_ambient_temperature_norm\", \"pressure_norm\", \"wind_speed_norm\",\n",
    "              \"humidity_norm\", \"dew_point_norm\", \"wind_direction_norm\", \"cloud_cover_norm\",\n",
    "              \"avg_ambient_temperature_i_norm\", \"pressure_i_norm\", \"wind_speed_i_norm\",\n",
    "              \"humidity_i_norm\", \"dew_point_i_norm\", \"wind_direction_i_norm\", \"cloud_cover_i_norm\", \n",
    "              \"irradiating_norm\", \"altitude_norm\", \"azimuth_norm\", \"sun_radiation_norm\",\n",
    "              \"irradiating_i_norm\", \"altitude_i_norm\", \"azimuth_i_norm\", \"sun_radiation_i_norm\"]]"
   ]
  },
  {
   "cell_type": "markdown",
   "metadata": {},
   "source": [
    "Pobranie danych testowych Y"
   ]
  },
  {
   "cell_type": "code",
   "execution_count": 41,
   "metadata": {
    "collapsed": true
   },
   "outputs": [],
   "source": [
    "y_test = df\n",
    "y_test = y_test.loc[df['year']==2013, :]\n",
    "y_test = y_test.loc[:,[\"kwh\"]]\n",
    "y_test = ravel(y_test)"
   ]
  },
  {
   "cell_type": "markdown",
   "metadata": {},
   "source": [
    "Predykcja i obliczenie wartości RMSE"
   ]
  },
  {
   "cell_type": "code",
   "execution_count": 42,
   "metadata": {},
   "outputs": [
    {
     "data": {
      "text/plain": [
       "0.03869782357045325"
      ]
     },
     "execution_count": 42,
     "metadata": {},
     "output_type": "execute_result"
    }
   ],
   "source": [
    "y_test_pred = regressor.predict(x_test)\n",
    "sqrt(mean_squared_error(y_test, y_test_pred))"
   ]
  },
  {
   "cell_type": "markdown",
   "metadata": {},
   "source": [
    "# Regresja danych"
   ]
  },
  {
   "cell_type": "markdown",
   "metadata": {},
   "source": [
    "Pobranie danych X"
   ]
  },
  {
   "cell_type": "code",
   "execution_count": 45,
   "metadata": {
    "collapsed": true
   },
   "outputs": [],
   "source": [
    "x_pred = df_pred\n",
    "x_pred = x_pred.loc[:, [\"id_location\", \"id_brand_norm\", \"id_model_norm\", \"age_in_months_norm\", \n",
    "              \"day_of_year_norm\", \"hour_of_day_norm\",\"season_norm\",\n",
    "              \"avg_ambient_temperature_norm\", \"pressure_norm\", \"wind_speed_norm\",\n",
    "              \"humidity_norm\", \"dew_point_norm\", \"wind_direction_norm\", \"cloud_cover_norm\",\n",
    "              \"avg_ambient_temperature_i_norm\", \"pressure_i_norm\", \"wind_speed_i_norm\",\n",
    "              \"humidity_i_norm\", \"dew_point_i_norm\", \"wind_direction_i_norm\", \"cloud_cover_i_norm\", \n",
    "              \"irradiating_norm\", \"altitude_norm\", \"azimuth_norm\", \"sun_radiation_norm\",\n",
    "              \"irradiating_i_norm\", \"altitude_i_norm\", \"azimuth_i_norm\", \"sun_radiation_i_norm\"]]"
   ]
  },
  {
   "cell_type": "markdown",
   "metadata": {},
   "source": [
    "Predykcja danych Y"
   ]
  },
  {
   "cell_type": "code",
   "execution_count": 46,
   "metadata": {
    "collapsed": true
   },
   "outputs": [],
   "source": [
    "y_pred = regressor.predict(x_pred)"
   ]
  },
  {
   "cell_type": "markdown",
   "metadata": {},
   "source": [
    "Zapis do pliku"
   ]
  },
  {
   "cell_type": "code",
   "execution_count": 47,
   "metadata": {
    "collapsed": true
   },
   "outputs": [],
   "source": [
    "y_pred = DataFrame(data = {'Id': df_pred.loc[:,['id']].values[:,0], 'kwh': y_pred})\n",
    "y_pred.to_csv('result.csv', columns = ['Id', 'kwh'], index = False)"
   ]
  },
  {
   "cell_type": "code",
   "execution_count": null,
   "metadata": {
    "collapsed": true
   },
   "outputs": [],
   "source": []
  }
 ],
 "metadata": {
  "kernelspec": {
   "display_name": "Python 3",
   "language": "python",
   "name": "python3"
  },
  "language_info": {
   "codemirror_mode": {
    "name": "ipython",
    "version": 3
   },
   "file_extension": ".py",
   "mimetype": "text/x-python",
   "name": "python",
   "nbconvert_exporter": "python",
   "pygments_lexer": "ipython3",
   "version": "3.6.3"
  }
 },
 "nbformat": 4,
 "nbformat_minor": 2
}
